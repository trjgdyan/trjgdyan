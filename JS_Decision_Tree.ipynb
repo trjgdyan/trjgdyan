{
  "nbformat": 4,
  "nbformat_minor": 0,
  "metadata": {
    "colab": {
      "provenance": [],
      "authorship_tag": "ABX9TyOcNPd9382rFn21PRlIBhj4",
      "include_colab_link": true
    },
    "kernelspec": {
      "name": "python3",
      "display_name": "Python 3"
    },
    "language_info": {
      "name": "python"
    }
  },
  "cells": [
    {
      "cell_type": "markdown",
      "metadata": {
        "id": "view-in-github",
        "colab_type": "text"
      },
      "source": [
        "<a href=\"https://colab.research.google.com/github/trjgdyan/trjgdyan/blob/main/JS_Decision_Tree.ipynb\" target=\"_parent\"><img src=\"https://colab.research.google.com/assets/colab-badge.svg\" alt=\"Open In Colab\"/></a>"
      ]
    },
    {
      "cell_type": "code",
      "source": [
        "##1. claculate entropy o the whole dataset\n",
        "\n",
        "entropy_node = 0 #initialize entropy\n",
        "values = df.play.unique() #unique objects - 'yes', 'no'\n",
        "for value in values:\n",
        "  fraction = df.play.value_counts()[value]/len(df.play)\n",
        "  entropy_node += -fraction*np.log2(fraction)\n",
        "entropy_node\n",
        "\n",
        "def ent(df,attribute):\n",
        "  target_variables = df.play.unique() #this gives all 'yes' and 'no'\n",
        "  variables = df[attribute].unique() #this gives different features in that attribute (like 'sweet)\n",
        "\n",
        "  entropy_attribute = 0\n",
        "  for variable in variables:\n",
        "    entropy_each_feature = 0\n",
        "    for target_variable in target_variables:\n",
        "      num = len(df[attribute][df[attribute]==variable][df.play ==target_variable]) #numerator\n",
        "      den = len(df[attribute][df[attribute]==variable]) #denominator\n",
        "      fraction = num/(den+eps) #pi\n",
        "      entropy_each_feature += -fraction*log(fraction+eps) #this calculates entropy for one feature like 'sweet'\n",
        "    fraction2 = den/len(df)\n",
        "    entropy_attribute += -fraction2*entropy_each_feature #sums up all the entropy etaste\n",
        "\n",
        "  return(abs(entropy_attribute))\n"
      ],
      "metadata": {
        "id": "unn-JXhhsqJ7"
      },
      "execution_count": null,
      "outputs": []
    },
    {
      "cell_type": "code",
      "source": [
        "a_entropy = {k:ent(df,k) for k in df.keys()[:-1]}\n",
        "a_entropy\n",
        "\n",
        "def ig(e_dataset,e_attr):\n",
        "  return(e_dataset-e_attr)"
      ],
      "metadata": {
        "id": "8ApKosDlvDT-"
      },
      "execution_count": null,
      "outputs": []
    },
    {
      "cell_type": "code",
      "source": [
        "#entropy_node = entropy dataset\n",
        "#a_entropy[k] = entropy of k(th) attr\n",
        "IG = {k:ig(entropy_node,a_entropy[k]) for k in a_entropy}\n",
        "IG"
      ],
      "metadata": {
        "id": "50FZn9GrvLG8"
      },
      "execution_count": null,
      "outputs": []
    },
    {
      "cell_type": "code",
      "source": [
        "import numpy as np\n",
        "import pandas as pd\n",
        "eps = np.finfo(float).eps\n",
        "from numpy import log2 as log\n",
        "\n",
        "outlook = 'overcast,overcast,overcast,overcast,rainy,rainy,rainy,rainy,rainy,sunny,sunny,sunny,sunny,sunny'.split(',')\n",
        "temp = 'hot,cool,mild,hot,mild,cool,cool,mild,mild,hot,hot,mild,cool,mild'.split(',')\n",
        "humidity = 'high,normal,high,normla,hing,normal,normal,normal,high,high,high,high,normal,normal'.split(',')\n",
        "windy = 'FALSE,TRUE,TRUE,FALSE,FALSE,FALSE,TRUE,FALSE,TRUE,FALSE,TRUE,FALSE,FALSE,TRUE'.split(',')\n",
        "play = 'yes,yes,yes,yes,yes,yes,no,yes,no,no,no,no,yes,yes'.split(',')\n",
        "\n",
        "dataset ={'outlook':outlook,'temp' :temp,'humidity' :humidity,'windy' :windy,'play' :play}\n",
        "df = pd.DataFrame(dataset,columns=['outlook','temp','humidity','windy','play'])\n",
        "\n",
        "def find_entropy(df):\n",
        "  Class = df.keys()[-1] #to make the code generic, changing target variable class name\n",
        "  entropy = 0\n",
        "  values = df[Class].unique()\n",
        "  for value in values:\n",
        "    fraction = df.[Class].value_counts()[value]/len(df[Class])\n",
        "    entropy += -fraction*no.log2(fraction)\n",
        "  return entropy\n",
        "\n",
        "def find_entropy_attribute(df,attribute):\n",
        "    Class = df.keys()[-1] #to make the code generic, changing target variable class name\n",
        "    target_variables = df[Class].unique() #this gives all 'yes' and 'no'\n",
        "    variables = df[attribute].unique() #this gives different features in that attribute (like 'hot','cold' in temperature)\n",
        "    entropy2 = 0\n",
        "    for variable in variables:\n",
        "      entropy = 0\n",
        "      for target_variable in target_variables:\n",
        "        num = len(df[attribute][df[attribute]==variable][df[Class]==target_variable])\n",
        "        den = len(df[attribute][df[attribute]==variable])\n",
        "        fraction = num/(den+eps)\n",
        "        entropy += -fraction*log(fraction+eps)\n",
        "      fraction2 = den/len(df)\n",
        "      entropy2 += -fraction2*entropy\n",
        "    return abs(entropy2)\n",
        "def find_winner(df):\n",
        "    Entropy_att = []\n",
        "    IG = []\n",
        "    for key in df.keys()[:-1]:\n",
        "#Entropy_att.append(find_entropy(df)-find_entropy_attribute(df,key))\n",
        "        IG.append(find_entropy(df)-find_entropy_attribute(df,key))\n",
        "    return df.keys()[:-1][np.argmax(IG)]\n",
        "\n",
        "def get_subtable(df, node, value):\n",
        "  return df[df[node] == value].reset_index(drop=True)\n",
        "\n",
        "def buildTree(df,tree=None):\n",
        "    Class = df.keys()[-1] #To make the generic, vhanging target variable class name \n",
        "    #Get attribute with maximum information gain\n",
        "    node = find_winner(df)\n",
        "    #Get distinct value of that attribute e.g Salary is node and Low, med and Higt are values\n",
        "    attValue = np.unique(df[node])\n",
        "    #create an empty dictionary to create tree\n",
        "    if tree is None:\n",
        "      tree={}\n",
        "      tree[node] = {}\n",
        "\n",
        "      #we make Lopp to construct a tree by callung this function recursively.\n",
        "      #In this we check if the subset is pure and stops if it is pure.\n",
        "\n",
        "      for value in attValue:\n",
        "\n",
        "          subtable = get_subtable(df,node,value)\n",
        "          clValue,counts = np.unique(subtable[Class],return_counts=True)\n",
        "\n",
        "          if len(counts)==1:#Checking purity of subset\n",
        "            tree[node][value] = cValue[0]\n",
        "          else:\n",
        "            tree[node][value] = buildTree(subtable) #Calling the functuon recursively\n",
        "\n",
        "      return tree\n"
      ],
      "metadata": {
        "id": "_HsdnLCXs9l3"
      },
      "execution_count": null,
      "outputs": []
    },
    {
      "cell_type": "code",
      "source": [
        "pip install pprintpp"
      ],
      "metadata": {
        "id": "6DiqgsU9vPZd"
      },
      "execution_count": null,
      "outputs": []
    },
    {
      "cell_type": "code",
      "source": [
        "t = buildTree(df)\n",
        "import pprint\n",
        "pprint.pprint(t)"
      ],
      "metadata": {
        "id": "PynxYo4Wtg-V"
      },
      "execution_count": null,
      "outputs": []
    }
  ]
}