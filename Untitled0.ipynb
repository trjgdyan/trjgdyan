{
  "nbformat": 4,
  "nbformat_minor": 0,
  "metadata": {
    "colab": {
      "provenance": [],
      "collapsed_sections": [],
      "authorship_tag": "ABX9TyMQr66eCHxEPI2QOB4In70/",
      "include_colab_link": true
    },
    "kernelspec": {
      "name": "python3",
      "display_name": "Python 3"
    },
    "language_info": {
      "name": "python"
    }
  },
  "cells": [
    {
      "cell_type": "markdown",
      "metadata": {
        "id": "view-in-github",
        "colab_type": "text"
      },
      "source": [
        "<a href=\"https://colab.research.google.com/github/trjgdyan/trjgdyan/blob/main/Untitled0.ipynb\" target=\"_parent\"><img src=\"https://colab.research.google.com/assets/colab-badge.svg\" alt=\"Open In Colab\"/></a>"
      ]
    },
    {
      "cell_type": "code",
      "execution_count": 4,
      "metadata": {
        "colab": {
          "base_uri": "https://localhost:8080/"
        },
        "id": "O0zeg-nX3Y7m",
        "outputId": "1df5108e-9651-4be7-909d-c5cbbd43b54b"
      },
      "outputs": [
        {
          "output_type": "stream",
          "name": "stdout",
          "text": [
            "Hasil penelusuran graf menggunakan BFS:\n",
            "A B C D E F H G "
          ]
        }
      ],
      "source": [
        "graph = {\n",
        "    'A' : ['B', 'C'],\n",
        "    'B' : ['D', 'E'], \n",
        "    'C' : ['F'],\n",
        "    'D' : [],\n",
        "    'E' : ['F'],\n",
        "    'F' : ['H'],\n",
        "    'G' : ['H'],\n",
        "    'H' : ['G']\n",
        "}\n",
        "\n",
        "visited = [] #list to keep track of visited nodes.\n",
        "queue = [] #initialize a queue\n",
        "\n",
        "def bfs(visited, graph, node):\n",
        "  visited.append(node)\n",
        "  queue.append(node)\n",
        "\n",
        "  while queue:\n",
        "    s = queue.pop(0)\n",
        "    print (s, end = \" \")\n",
        "\n",
        "    for neighbour in graph[s]:\n",
        "      if neighbour not in visited:\n",
        "        visited.append(neighbour)\n",
        "        queue.append(neighbour)\n",
        "\n",
        "print(\"Hasil penelusuran graf menggunakan BFS:\")\n",
        "bfs(visited, graph, 'A')"
      ]
    },
    {
      "cell_type": "code",
      "source": [
        "graph = {\n",
        "    'A' : ['B', 'C'],\n",
        "    'B' : ['D', 'E'], \n",
        "    'C' : ['F'],\n",
        "    'D' : [],\n",
        "    'E' : ['F'],\n",
        "    'F' : ['H'],\n",
        "    'G' : ['H'],\n",
        "    'H' : ['G']\n",
        "}\n",
        "\n",
        "visited = set()\n",
        "\n",
        "def dfs(visited, graph, node):\n",
        "  if node not in visited:\n",
        "    print(node)\n",
        "    visited.add(node)\n",
        "    for neighbour in graph[node]:\n",
        "      dfs(visited, graph, neighbour)\n",
        "\n",
        "print(\"Hasil penelusuran graf menggunakan DFS:\")\n",
        "dfs(visited, graph, 'A')"
      ],
      "metadata": {
        "colab": {
          "base_uri": "https://localhost:8080/"
        },
        "id": "m4mtBPWyBnnU",
        "outputId": "f9e576d8-e9b6-4948-cae7-e8d955a3b67a"
      },
      "execution_count": 6,
      "outputs": [
        {
          "output_type": "stream",
          "name": "stdout",
          "text": [
            "Hasil penelusuran graf menggunakan DFS:\n",
            "A\n",
            "B\n",
            "D\n",
            "E\n",
            "F\n",
            "H\n",
            "G\n",
            "C\n"
          ]
        }
      ]
    },
    {
      "cell_type": "code",
      "source": [
        "#PRAKTIKUM 1 BFS\n",
        "graph = {\n",
        "    'A' : ['B', 'E', 'F'],\n",
        "    'B' : ['G'],\n",
        "    'C' : ['D','G'],\n",
        "    'D' : ['H','C'],\n",
        "    'E' : ['F'],\n",
        "    'F' : ['B','E'],\n",
        "    'G' : ['C','H'],\n",
        "    'H' : ['D','G']\n",
        "}\n",
        "\n",
        "visited = []\n",
        "queue = []\n",
        "\n",
        "def bfs(visited, graph, node):\n",
        "  visited.append(node)\n",
        "  queue.append(node)\n",
        "\n",
        "  while queue:\n",
        "    s = queue.pop(0)\n",
        "    print (s, end = \" \")\n",
        "\n",
        "    for neighbour in graph[s]:\n",
        "      if neighbour not in visited:\n",
        "        visited.append(neighbour)\n",
        "        queue.append(neighbour)\n",
        "\n",
        "print(\"Hasil penelusuran graf menggunakan BFS : \")\n",
        "bfs(visited, graph, 'A')"
      ],
      "metadata": {
        "colab": {
          "base_uri": "https://localhost:8080/"
        },
        "id": "k5j_qX-7FeNk",
        "outputId": "43fd3fa4-1da7-4450-951e-af3c5368d0dd"
      },
      "execution_count": 12,
      "outputs": [
        {
          "output_type": "stream",
          "name": "stdout",
          "text": [
            "Hasil penelusuran graf menggunakan BFS : \n",
            "A B E F G C H D "
          ]
        }
      ]
    },
    {
      "cell_type": "code",
      "source": [
        "# PRAKTIKUM 1 DFS\n",
        "graph = {\n",
        "    'A' : ['B', 'E', 'F'],\n",
        "    'B' : ['G'],\n",
        "    'C' : ['D','G'],\n",
        "    'D' : ['H','C'],\n",
        "    'E' : ['F','E'],\n",
        "    'F' : ['B','E'],\n",
        "    'G' : ['C','H'],\n",
        "    'H' : ['D','G']\n",
        "}\n",
        "visited = set()\n",
        "\n",
        "def dfs(visited, graph, node):\n",
        "  if node not in visited:\n",
        "    print(node)\n",
        "    visited.add(node)\n",
        "    for neighbour in graph[node]:\n",
        "      dfs(visited, graph, neighbour)\n",
        "\n",
        "print(\"Hasil penelusuran graf menggunakan DFS:\")\n",
        "dfs(visited, graph, 'A')"
      ],
      "metadata": {
        "colab": {
          "base_uri": "https://localhost:8080/"
        },
        "id": "y0TJBb5GJLXK",
        "outputId": "326a85cd-f4a7-426b-a0d0-1c9a6d47c62d"
      },
      "execution_count": 9,
      "outputs": [
        {
          "output_type": "stream",
          "name": "stdout",
          "text": [
            "Hasil penelusuran graf menggunakan DFS:\n",
            "A\n",
            "B\n",
            "G\n",
            "C\n",
            "D\n",
            "H\n",
            "E\n",
            "F\n"
          ]
        }
      ]
    },
    {
      "cell_type": "code",
      "source": [
        "#Praktikum 2 BFS\n",
        "graph = {\n",
        "    'A' : ['B'],\n",
        "    'B' : ['F', 'G'],\n",
        "    'C' : ['D','G'],\n",
        "    'D' : ['H','C'],\n",
        "    'E' : [],\n",
        "    'F' : ['B','E'],\n",
        "    'G' : ['C','B'],\n",
        "    'H' : ['D']\n",
        "}\n",
        "\n",
        "visited = []\n",
        "queue = []\n",
        "\n",
        "def bfs(visited, graph, node):\n",
        "  visited.append(node)\n",
        "  queue.append(node)\n",
        "\n",
        "  while queue:\n",
        "    s = queue.pop(0)\n",
        "    print (s, end = \" \")\n",
        "\n",
        "    for neighbour in graph[s]:\n",
        "      if neighbour not in visited:\n",
        "        visited.append(neighbour)\n",
        "        queue.append(neighbour)\n",
        "\n",
        "print(\"Hasil penelusuran graf menggunakan BFS : \")\n",
        "bfs(visited, graph, 'D')"
      ],
      "metadata": {
        "colab": {
          "base_uri": "https://localhost:8080/"
        },
        "id": "Fisw2TgrK0PB",
        "outputId": "aa39a930-40f0-4a0e-b182-090a34a4f489"
      },
      "execution_count": 17,
      "outputs": [
        {
          "output_type": "stream",
          "name": "stdout",
          "text": [
            "Hasil penelusuran graf menggunakan BFS : \n",
            "D H C G B F E "
          ]
        }
      ]
    },
    {
      "cell_type": "code",
      "source": [
        "#Praktikum 2 DFS\n",
        "graph = {\n",
        "    'A' : ['B'],\n",
        "    'B' : ['F', 'G'],\n",
        "    'C' : ['D','G'],\n",
        "    'D' : ['H','C'],\n",
        "    'E' : [],\n",
        "    'F' : ['B','E'],\n",
        "    'G' : ['C','B'],\n",
        "    'H' : ['D']\n",
        "}\n",
        "visited = set()\n",
        "\n",
        "def dfs(visited, graph, node):\n",
        "  if node not in visited:\n",
        "    print(node)\n",
        "    visited.add(node)\n",
        "    for neighbour in graph[node]:\n",
        "      dfs(visited, graph, neighbour)\n",
        "\n",
        "print(\"Hasil penelusuran graf menggunakan DFS:\")\n",
        "dfs(visited, graph, 'D')"
      ],
      "metadata": {
        "colab": {
          "base_uri": "https://localhost:8080/"
        },
        "id": "J36W-DJ6Lusk",
        "outputId": "c32e204f-fe1b-444a-e062-42118147d530"
      },
      "execution_count": 16,
      "outputs": [
        {
          "output_type": "stream",
          "name": "stdout",
          "text": [
            "Hasil penelusuran graf menggunakan DFS:\n",
            "D\n",
            "H\n",
            "C\n",
            "G\n",
            "B\n",
            "F\n",
            "E\n"
          ]
        }
      ]
    }
  ]
}